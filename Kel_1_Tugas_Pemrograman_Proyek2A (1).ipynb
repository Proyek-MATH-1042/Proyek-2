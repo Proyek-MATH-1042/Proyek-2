{
  "nbformat": 4,
  "nbformat_minor": 0,
  "metadata": {
    "colab": {
      "name": "Kel_1_Tugas_Pemrograman_Proyek2A.ipynb",
      "provenance": [],
      "collapsed_sections": [],
      "toc_visible": true
    },
    "kernelspec": {
      "name": "python3",
      "display_name": "Python 3"
    },
    "language_info": {
      "name": "python"
    }
  },
  "cells": [
    {
      "cell_type": "markdown",
      "metadata": {
        "id": "ijfU0fSDXZce"
      },
      "source": [
        "# Tugas Pemrograman MATH 1042 – Peluang dan Statistika\n",
        "# Proyek 2A: Survei Kepuasan Bandara"
      ]
    },
    {
      "cell_type": "markdown",
      "metadata": {
        "id": "wtvMM-GTOruv"
      },
      "source": [
        "**Mengimpor <em>libraries</em>**"
      ]
    },
    {
      "cell_type": "code",
      "metadata": {
        "id": "BZcfzzAOMeBK"
      },
      "source": [
        "import pandas as pd\n",
        "import matplotlib.pyplot as plt\n",
        "import numpy as np\n",
        "import math"
      ],
      "execution_count": 4,
      "outputs": []
    },
    {
      "cell_type": "markdown",
      "metadata": {
        "id": "d4LrJ81FOzkO"
      },
      "source": [
        "**Mengimpor dataset**"
      ]
    },
    {
      "cell_type": "code",
      "metadata": {
        "colab": {
          "base_uri": "https://localhost:8080/",
          "height": 541
        },
        "id": "qvXpvKIFOefQ",
        "outputId": "6a6f4775-12e5-4363-89ce-7d75f6b5912f"
      },
      "source": [
        "dataset = pd.read_csv(\"airport-quarterly-passenger-survey-1.csv\")\n",
        "dataset"
      ],
      "execution_count": 5,
      "outputs": [
        {
          "output_type": "execute_result",
          "data": {
            "text/html": [
              "<div>\n",
              "<style scoped>\n",
              "    .dataframe tbody tr th:only-of-type {\n",
              "        vertical-align: middle;\n",
              "    }\n",
              "\n",
              "    .dataframe tbody tr th {\n",
              "        vertical-align: top;\n",
              "    }\n",
              "\n",
              "    .dataframe thead th {\n",
              "        text-align: right;\n",
              "    }\n",
              "</style>\n",
              "<table border=\"1\" class=\"dataframe\">\n",
              "  <thead>\n",
              "    <tr style=\"text-align: right;\">\n",
              "      <th></th>\n",
              "      <th>Quarter</th>\n",
              "      <th>Date recorded</th>\n",
              "      <th>Departure time</th>\n",
              "      <th>Ground transportation to/from airport</th>\n",
              "      <th>Parking facilities</th>\n",
              "      <th>Parking facilities (value for money)</th>\n",
              "      <th>Availability of baggage carts</th>\n",
              "      <th>Efficiency of check-in staff</th>\n",
              "      <th>Check-in wait time</th>\n",
              "      <th>Courtesy of of check-in staff</th>\n",
              "      <th>Wait time at passport inspection</th>\n",
              "      <th>Courtesy of inspection staff</th>\n",
              "      <th>Courtesy of security staff</th>\n",
              "      <th>Thoroughness of security inspection</th>\n",
              "      <th>Wait time of security inspection</th>\n",
              "      <th>Feeling of safety and security</th>\n",
              "      <th>Ease of finding your way through the airport</th>\n",
              "      <th>Flight information screens</th>\n",
              "      <th>Walking distance inside terminal</th>\n",
              "      <th>Ease of making connections</th>\n",
              "      <th>Courtesy of airport staff</th>\n",
              "      <th>Restaurants</th>\n",
              "      <th>Restaurants (value for money)</th>\n",
              "      <th>Availability of banks/ATM/money changing</th>\n",
              "      <th>Shopping facilities</th>\n",
              "      <th>Shopping facilities (value for money)</th>\n",
              "      <th>Internet access</th>\n",
              "      <th>Business/executive lounges</th>\n",
              "      <th>Availability of washrooms</th>\n",
              "      <th>Cleanliness of washrooms</th>\n",
              "      <th>Comfort of waiting/gate areas</th>\n",
              "      <th>Cleanliness of airport terminal</th>\n",
              "      <th>Ambience of airport</th>\n",
              "      <th>Arrivals passport and visa inspection</th>\n",
              "      <th>Speed of baggage delivery</th>\n",
              "      <th>Customs inspection</th>\n",
              "      <th>Overall satisfaction</th>\n",
              "    </tr>\n",
              "  </thead>\n",
              "  <tbody>\n",
              "    <tr>\n",
              "      <th>0</th>\n",
              "      <td>3Q16</td>\n",
              "      <td>09/04/2016</td>\n",
              "      <td>11:45</td>\n",
              "      <td>0.0</td>\n",
              "      <td>0.0</td>\n",
              "      <td>0.0</td>\n",
              "      <td>0.0</td>\n",
              "      <td>5.0</td>\n",
              "      <td>0.0</td>\n",
              "      <td>0.0</td>\n",
              "      <td>3.0</td>\n",
              "      <td>4.0</td>\n",
              "      <td>4.0</td>\n",
              "      <td>5.0</td>\n",
              "      <td>2.0</td>\n",
              "      <td>4.0</td>\n",
              "      <td>5.0</td>\n",
              "      <td>5.0</td>\n",
              "      <td>5.0</td>\n",
              "      <td>0.0</td>\n",
              "      <td>0.0</td>\n",
              "      <td>0.0</td>\n",
              "      <td>0.0</td>\n",
              "      <td>0.0</td>\n",
              "      <td>0.0</td>\n",
              "      <td>0.0</td>\n",
              "      <td>0.0</td>\n",
              "      <td>0.0</td>\n",
              "      <td>4.0</td>\n",
              "      <td>0.0</td>\n",
              "      <td>4.0</td>\n",
              "      <td>5.0</td>\n",
              "      <td>4.0</td>\n",
              "      <td>4.0</td>\n",
              "      <td>0.0</td>\n",
              "      <td>0.0</td>\n",
              "      <td>0.0</td>\n",
              "    </tr>\n",
              "    <tr>\n",
              "      <th>1</th>\n",
              "      <td>2Q16</td>\n",
              "      <td>05/01/2016</td>\n",
              "      <td>16:45</td>\n",
              "      <td>0.0</td>\n",
              "      <td>0.0</td>\n",
              "      <td>0.0</td>\n",
              "      <td>0.0</td>\n",
              "      <td>5.0</td>\n",
              "      <td>0.0</td>\n",
              "      <td>0.0</td>\n",
              "      <td>2.0</td>\n",
              "      <td>3.0</td>\n",
              "      <td>3.0</td>\n",
              "      <td>0.0</td>\n",
              "      <td>2.0</td>\n",
              "      <td>3.0</td>\n",
              "      <td>5.0</td>\n",
              "      <td>5.0</td>\n",
              "      <td>4.0</td>\n",
              "      <td>0.0</td>\n",
              "      <td>0.0</td>\n",
              "      <td>4.0</td>\n",
              "      <td>3.0</td>\n",
              "      <td>0.0</td>\n",
              "      <td>0.0</td>\n",
              "      <td>0.0</td>\n",
              "      <td>4.0</td>\n",
              "      <td>0.0</td>\n",
              "      <td>0.0</td>\n",
              "      <td>0.0</td>\n",
              "      <td>4.0</td>\n",
              "      <td>4.0</td>\n",
              "      <td>4.0</td>\n",
              "      <td>4.0</td>\n",
              "      <td>0.0</td>\n",
              "      <td>0.0</td>\n",
              "      <td>0.0</td>\n",
              "    </tr>\n",
              "    <tr>\n",
              "      <th>2</th>\n",
              "      <td>2Q16</td>\n",
              "      <td>04/07/2016</td>\n",
              "      <td>11:10</td>\n",
              "      <td>4.0</td>\n",
              "      <td>4.0</td>\n",
              "      <td>4.0</td>\n",
              "      <td>5.0</td>\n",
              "      <td>5.0</td>\n",
              "      <td>5.0</td>\n",
              "      <td>5.0</td>\n",
              "      <td>NaN</td>\n",
              "      <td>NaN</td>\n",
              "      <td>5.0</td>\n",
              "      <td>5.0</td>\n",
              "      <td>5.0</td>\n",
              "      <td>5.0</td>\n",
              "      <td>0.0</td>\n",
              "      <td>NaN</td>\n",
              "      <td>0.0</td>\n",
              "      <td>0.0</td>\n",
              "      <td>5.0</td>\n",
              "      <td>5.0</td>\n",
              "      <td>5.0</td>\n",
              "      <td>0.0</td>\n",
              "      <td>5.0</td>\n",
              "      <td>0.0</td>\n",
              "      <td>0.0</td>\n",
              "      <td>0.0</td>\n",
              "      <td>5.0</td>\n",
              "      <td>5.0</td>\n",
              "      <td>5.0</td>\n",
              "      <td>5.0</td>\n",
              "      <td>5.0</td>\n",
              "      <td>NaN</td>\n",
              "      <td>0.0</td>\n",
              "      <td>5.0</td>\n",
              "      <td>0.0</td>\n",
              "    </tr>\n",
              "    <tr>\n",
              "      <th>3</th>\n",
              "      <td>3Q16</td>\n",
              "      <td>09/02/2016</td>\n",
              "      <td>17:16</td>\n",
              "      <td>0.0</td>\n",
              "      <td>0.0</td>\n",
              "      <td>0.0</td>\n",
              "      <td>0.0</td>\n",
              "      <td>4.0</td>\n",
              "      <td>0.0</td>\n",
              "      <td>0.0</td>\n",
              "      <td>NaN</td>\n",
              "      <td>NaN</td>\n",
              "      <td>4.0</td>\n",
              "      <td>4.0</td>\n",
              "      <td>2.0</td>\n",
              "      <td>3.0</td>\n",
              "      <td>4.0</td>\n",
              "      <td>4.0</td>\n",
              "      <td>4.0</td>\n",
              "      <td>0.0</td>\n",
              "      <td>0.0</td>\n",
              "      <td>0.0</td>\n",
              "      <td>2.0</td>\n",
              "      <td>0.0</td>\n",
              "      <td>0.0</td>\n",
              "      <td>0.0</td>\n",
              "      <td>0.0</td>\n",
              "      <td>0.0</td>\n",
              "      <td>4.0</td>\n",
              "      <td>4.0</td>\n",
              "      <td>4.0</td>\n",
              "      <td>4.0</td>\n",
              "      <td>4.0</td>\n",
              "      <td>4.0</td>\n",
              "      <td>0.0</td>\n",
              "      <td>0.0</td>\n",
              "      <td>0.0</td>\n",
              "    </tr>\n",
              "    <tr>\n",
              "      <th>4</th>\n",
              "      <td>3Q16</td>\n",
              "      <td>08/04/2016</td>\n",
              "      <td>7:49</td>\n",
              "      <td>5.0</td>\n",
              "      <td>0.0</td>\n",
              "      <td>0.0</td>\n",
              "      <td>0.0</td>\n",
              "      <td>4.0</td>\n",
              "      <td>4.0</td>\n",
              "      <td>4.0</td>\n",
              "      <td>5.0</td>\n",
              "      <td>5.0</td>\n",
              "      <td>2.0</td>\n",
              "      <td>3.0</td>\n",
              "      <td>2.0</td>\n",
              "      <td>3.0</td>\n",
              "      <td>4.0</td>\n",
              "      <td>3.0</td>\n",
              "      <td>5.0</td>\n",
              "      <td>0.0</td>\n",
              "      <td>4.0</td>\n",
              "      <td>4.0</td>\n",
              "      <td>4.0</td>\n",
              "      <td>3.0</td>\n",
              "      <td>4.0</td>\n",
              "      <td>3.0</td>\n",
              "      <td>2.0</td>\n",
              "      <td>2.0</td>\n",
              "      <td>4.0</td>\n",
              "      <td>4.0</td>\n",
              "      <td>2.0</td>\n",
              "      <td>5.0</td>\n",
              "      <td>4.0</td>\n",
              "      <td>4.0</td>\n",
              "      <td>0.0</td>\n",
              "      <td>4.0</td>\n",
              "      <td>0.0</td>\n",
              "    </tr>\n",
              "    <tr>\n",
              "      <th>...</th>\n",
              "      <td>...</td>\n",
              "      <td>...</td>\n",
              "      <td>...</td>\n",
              "      <td>...</td>\n",
              "      <td>...</td>\n",
              "      <td>...</td>\n",
              "      <td>...</td>\n",
              "      <td>...</td>\n",
              "      <td>...</td>\n",
              "      <td>...</td>\n",
              "      <td>...</td>\n",
              "      <td>...</td>\n",
              "      <td>...</td>\n",
              "      <td>...</td>\n",
              "      <td>...</td>\n",
              "      <td>...</td>\n",
              "      <td>...</td>\n",
              "      <td>...</td>\n",
              "      <td>...</td>\n",
              "      <td>...</td>\n",
              "      <td>...</td>\n",
              "      <td>...</td>\n",
              "      <td>...</td>\n",
              "      <td>...</td>\n",
              "      <td>...</td>\n",
              "      <td>...</td>\n",
              "      <td>...</td>\n",
              "      <td>...</td>\n",
              "      <td>...</td>\n",
              "      <td>...</td>\n",
              "      <td>...</td>\n",
              "      <td>...</td>\n",
              "      <td>...</td>\n",
              "      <td>...</td>\n",
              "      <td>...</td>\n",
              "      <td>...</td>\n",
              "      <td>...</td>\n",
              "    </tr>\n",
              "    <tr>\n",
              "      <th>3496</th>\n",
              "      <td>2Q17</td>\n",
              "      <td>04/09/2017</td>\n",
              "      <td>11:30 AM</td>\n",
              "      <td>0.0</td>\n",
              "      <td>0.0</td>\n",
              "      <td>0.0</td>\n",
              "      <td>0.0</td>\n",
              "      <td>0.0</td>\n",
              "      <td>0.0</td>\n",
              "      <td>0.0</td>\n",
              "      <td>5.0</td>\n",
              "      <td>5.0</td>\n",
              "      <td>5.0</td>\n",
              "      <td>5.0</td>\n",
              "      <td>5.0</td>\n",
              "      <td>5.0</td>\n",
              "      <td>5.0</td>\n",
              "      <td>5.0</td>\n",
              "      <td>5.0</td>\n",
              "      <td>0.0</td>\n",
              "      <td>0.0</td>\n",
              "      <td>5.0</td>\n",
              "      <td>4.0</td>\n",
              "      <td>0.0</td>\n",
              "      <td>0.0</td>\n",
              "      <td>0.0</td>\n",
              "      <td>0.0</td>\n",
              "      <td>0.0</td>\n",
              "      <td>0.0</td>\n",
              "      <td>0.0</td>\n",
              "      <td>0.0</td>\n",
              "      <td>5.0</td>\n",
              "      <td>5.0</td>\n",
              "      <td>0.0</td>\n",
              "      <td>0.0</td>\n",
              "      <td>0.0</td>\n",
              "      <td>5.0</td>\n",
              "    </tr>\n",
              "    <tr>\n",
              "      <th>3497</th>\n",
              "      <td>2Q17</td>\n",
              "      <td>04/10/2017</td>\n",
              "      <td>10:35 AM</td>\n",
              "      <td>0.0</td>\n",
              "      <td>0.0</td>\n",
              "      <td>0.0</td>\n",
              "      <td>0.0</td>\n",
              "      <td>0.0</td>\n",
              "      <td>5.0</td>\n",
              "      <td>0.0</td>\n",
              "      <td>5.0</td>\n",
              "      <td>5.0</td>\n",
              "      <td>5.0</td>\n",
              "      <td>5.0</td>\n",
              "      <td>5.0</td>\n",
              "      <td>4.0</td>\n",
              "      <td>3.0</td>\n",
              "      <td>4.0</td>\n",
              "      <td>4.0</td>\n",
              "      <td>0.0</td>\n",
              "      <td>5.0</td>\n",
              "      <td>0.0</td>\n",
              "      <td>0.0</td>\n",
              "      <td>0.0</td>\n",
              "      <td>0.0</td>\n",
              "      <td>0.0</td>\n",
              "      <td>0.0</td>\n",
              "      <td>0.0</td>\n",
              "      <td>4.0</td>\n",
              "      <td>4.0</td>\n",
              "      <td>4.0</td>\n",
              "      <td>5.0</td>\n",
              "      <td>4.0</td>\n",
              "      <td>0.0</td>\n",
              "      <td>0.0</td>\n",
              "      <td>0.0</td>\n",
              "      <td>4.0</td>\n",
              "    </tr>\n",
              "    <tr>\n",
              "      <th>3498</th>\n",
              "      <td>2Q17</td>\n",
              "      <td>05/11/2017</td>\n",
              "      <td>1:42 PM</td>\n",
              "      <td>0.0</td>\n",
              "      <td>0.0</td>\n",
              "      <td>0.0</td>\n",
              "      <td>0.0</td>\n",
              "      <td>0.0</td>\n",
              "      <td>0.0</td>\n",
              "      <td>0.0</td>\n",
              "      <td>5.0</td>\n",
              "      <td>5.0</td>\n",
              "      <td>5.0</td>\n",
              "      <td>5.0</td>\n",
              "      <td>5.0</td>\n",
              "      <td>3.0</td>\n",
              "      <td>4.0</td>\n",
              "      <td>4.0</td>\n",
              "      <td>4.0</td>\n",
              "      <td>0.0</td>\n",
              "      <td>0.0</td>\n",
              "      <td>4.0</td>\n",
              "      <td>4.0</td>\n",
              "      <td>0.0</td>\n",
              "      <td>0.0</td>\n",
              "      <td>0.0</td>\n",
              "      <td>0.0</td>\n",
              "      <td>0.0</td>\n",
              "      <td>4.0</td>\n",
              "      <td>4.0</td>\n",
              "      <td>4.0</td>\n",
              "      <td>4.0</td>\n",
              "      <td>4.0</td>\n",
              "      <td>0.0</td>\n",
              "      <td>0.0</td>\n",
              "      <td>0.0</td>\n",
              "      <td>4.0</td>\n",
              "    </tr>\n",
              "    <tr>\n",
              "      <th>3499</th>\n",
              "      <td>2Q17</td>\n",
              "      <td>06/03/2017</td>\n",
              "      <td>5:05 PM</td>\n",
              "      <td>5.0</td>\n",
              "      <td>0.0</td>\n",
              "      <td>0.0</td>\n",
              "      <td>0.0</td>\n",
              "      <td>5.0</td>\n",
              "      <td>4.0</td>\n",
              "      <td>5.0</td>\n",
              "      <td>4.0</td>\n",
              "      <td>5.0</td>\n",
              "      <td>5.0</td>\n",
              "      <td>4.0</td>\n",
              "      <td>4.0</td>\n",
              "      <td>4.0</td>\n",
              "      <td>4.0</td>\n",
              "      <td>4.0</td>\n",
              "      <td>5.0</td>\n",
              "      <td>0.0</td>\n",
              "      <td>5.0</td>\n",
              "      <td>5.0</td>\n",
              "      <td>0.0</td>\n",
              "      <td>4.0</td>\n",
              "      <td>4.0</td>\n",
              "      <td>3.0</td>\n",
              "      <td>0.0</td>\n",
              "      <td>0.0</td>\n",
              "      <td>5.0</td>\n",
              "      <td>5.0</td>\n",
              "      <td>4.0</td>\n",
              "      <td>4.0</td>\n",
              "      <td>4.0</td>\n",
              "      <td>0.0</td>\n",
              "      <td>4.0</td>\n",
              "      <td>0.0</td>\n",
              "      <td>4.0</td>\n",
              "    </tr>\n",
              "    <tr>\n",
              "      <th>3500</th>\n",
              "      <td>2Q17</td>\n",
              "      <td>06/03/2017</td>\n",
              "      <td>4:35 PM</td>\n",
              "      <td>0.0</td>\n",
              "      <td>0.0</td>\n",
              "      <td>0.0</td>\n",
              "      <td>0.0</td>\n",
              "      <td>0.0</td>\n",
              "      <td>0.0</td>\n",
              "      <td>0.0</td>\n",
              "      <td>0.0</td>\n",
              "      <td>0.0</td>\n",
              "      <td>0.0</td>\n",
              "      <td>0.0</td>\n",
              "      <td>0.0</td>\n",
              "      <td>5.0</td>\n",
              "      <td>4.0</td>\n",
              "      <td>4.0</td>\n",
              "      <td>4.0</td>\n",
              "      <td>3.0</td>\n",
              "      <td>4.0</td>\n",
              "      <td>4.0</td>\n",
              "      <td>3.0</td>\n",
              "      <td>0.0</td>\n",
              "      <td>0.0</td>\n",
              "      <td>5.0</td>\n",
              "      <td>3.0</td>\n",
              "      <td>0.0</td>\n",
              "      <td>5.0</td>\n",
              "      <td>5.0</td>\n",
              "      <td>5.0</td>\n",
              "      <td>5.0</td>\n",
              "      <td>5.0</td>\n",
              "      <td>0.0</td>\n",
              "      <td>0.0</td>\n",
              "      <td>0.0</td>\n",
              "      <td>4.0</td>\n",
              "    </tr>\n",
              "  </tbody>\n",
              "</table>\n",
              "<p>3501 rows × 37 columns</p>\n",
              "</div>"
            ],
            "text/plain": [
              "     Quarter Date recorded  ... Customs inspection  Overall satisfaction\n",
              "0       3Q16    09/04/2016  ...                0.0                   0.0\n",
              "1       2Q16    05/01/2016  ...                0.0                   0.0\n",
              "2       2Q16    04/07/2016  ...                5.0                   0.0\n",
              "3       3Q16    09/02/2016  ...                0.0                   0.0\n",
              "4       3Q16    08/04/2016  ...                4.0                   0.0\n",
              "...      ...           ...  ...                ...                   ...\n",
              "3496    2Q17    04/09/2017  ...                0.0                   5.0\n",
              "3497    2Q17    04/10/2017  ...                0.0                   4.0\n",
              "3498    2Q17    05/11/2017  ...                0.0                   4.0\n",
              "3499    2Q17    06/03/2017  ...                0.0                   4.0\n",
              "3500    2Q17    06/03/2017  ...                0.0                   4.0\n",
              "\n",
              "[3501 rows x 37 columns]"
            ]
          },
          "metadata": {
            "tags": []
          },
          "execution_count": 5
        }
      ]
    },
    {
      "cell_type": "code",
      "metadata": {
        "colab": {
          "base_uri": "https://localhost:8080/"
        },
        "id": "2Z2gecT7OpBO",
        "outputId": "dee40fa6-6724-4c2a-bb4e-71fa4fe82523"
      },
      "source": [
        "dataset.info()"
      ],
      "execution_count": 6,
      "outputs": [
        {
          "output_type": "stream",
          "text": [
            "<class 'pandas.core.frame.DataFrame'>\n",
            "RangeIndex: 3501 entries, 0 to 3500\n",
            "Data columns (total 37 columns):\n",
            " #   Column                                        Non-Null Count  Dtype  \n",
            "---  ------                                        --------------  -----  \n",
            " 0   Quarter                                       3501 non-null   object \n",
            " 1   Date recorded                                 3501 non-null   object \n",
            " 2   Departure time                                3501 non-null   object \n",
            " 3   Ground transportation to/from airport         3447 non-null   float64\n",
            " 4   Parking facilities                            3462 non-null   float64\n",
            " 5   Parking facilities (value for money)          3455 non-null   float64\n",
            " 6   Availability of baggage carts                 3410 non-null   float64\n",
            " 7   Efficiency of check-in staff                  3463 non-null   float64\n",
            " 8   Check-in wait time                            3462 non-null   float64\n",
            " 9   Courtesy of of check-in staff                 3449 non-null   float64\n",
            " 10  Wait time at passport inspection              3432 non-null   float64\n",
            " 11  Courtesy of inspection staff                  3405 non-null   float64\n",
            " 12  Courtesy of security staff                    3470 non-null   float64\n",
            " 13  Thoroughness of security inspection           3455 non-null   float64\n",
            " 14  Wait time of security inspection              3451 non-null   float64\n",
            " 15  Feeling of safety and security                3458 non-null   float64\n",
            " 16  Ease of finding your way through the airport  3465 non-null   float64\n",
            " 17  Flight information screens                    3475 non-null   float64\n",
            " 18  Walking distance inside terminal              3464 non-null   float64\n",
            " 19  Ease of making connections                    3418 non-null   float64\n",
            " 20  Courtesy of airport staff                     3461 non-null   float64\n",
            " 21  Restaurants                                   3442 non-null   float64\n",
            " 22  Restaurants (value for money)                 3441 non-null   float64\n",
            " 23  Availability of banks/ATM/money changing      3460 non-null   float64\n",
            " 24  Shopping facilities                           3455 non-null   float64\n",
            " 25  Shopping facilities (value for money)         3444 non-null   float64\n",
            " 26  Internet access                               3428 non-null   float64\n",
            " 27  Business/executive lounges                    3410 non-null   float64\n",
            " 28  Availability of washrooms                     3466 non-null   float64\n",
            " 29  Cleanliness of washrooms                      3464 non-null   float64\n",
            " 30  Comfort of waiting/gate areas                 3460 non-null   float64\n",
            " 31  Cleanliness of airport terminal               3469 non-null   float64\n",
            " 32  Ambience of airport                           3447 non-null   float64\n",
            " 33  Arrivals passport and visa inspection         3358 non-null   float64\n",
            " 34  Speed of baggage delivery                     3320 non-null   float64\n",
            " 35  Customs inspection                            3300 non-null   float64\n",
            " 36  Overall satisfaction                          3329 non-null   float64\n",
            "dtypes: float64(34), object(3)\n",
            "memory usage: 1012.1+ KB\n"
          ],
          "name": "stdout"
        }
      ]
    },
    {
      "cell_type": "markdown",
      "metadata": {
        "id": "v0sdD1lQXQjO"
      },
      "source": [
        "## 1. Memilih tiga layanan yang akan dianalisis"
      ]
    },
    {
      "cell_type": "code",
      "metadata": {
        "id": "lM9UqerhSXQv"
      },
      "source": [
        "def choose_feature(dataset):\n",
        "  chosen_feature = set()\n",
        "  for key, val in dataset.mean().sort_values()[0:3].items():\n",
        "    chosen_feature.add(dataset.columns.get_loc(key))\n",
        "  return chosen_feature"
      ],
      "execution_count": 7,
      "outputs": []
    },
    {
      "cell_type": "code",
      "metadata": {
        "colab": {
          "base_uri": "https://localhost:8080/"
        },
        "id": "lDTZShi2TVI6",
        "outputId": "3dccfa0f-182b-4be9-f0aa-ec530a272e0d"
      },
      "source": [
        "feature_index = choose_feature(dataset)\n",
        "for index in feature_index:\n",
        "  print(dataset.columns[index])"
      ],
      "execution_count": 8,
      "outputs": [
        {
          "output_type": "stream",
          "text": [
            "Business/executive lounges\n",
            "Ease of making connections\n",
            "Availability of banks/ATM/money changing\n"
          ],
          "name": "stdout"
        }
      ]
    },
    {
      "cell_type": "markdown",
      "metadata": {
        "id": "wtDanrYfXorA"
      },
      "source": [
        "**Memfilter dataset**"
      ]
    },
    {
      "cell_type": "code",
      "metadata": {
        "colab": {
          "base_uri": "https://localhost:8080/",
          "height": 419
        },
        "id": "iao9g7YnRsnx",
        "outputId": "6b96cdf1-ba4c-47db-e9ad-528ce82d8140"
      },
      "source": [
        "# Filtered Dataset\n",
        "col_index = list(feature_index)\n",
        "col_index.append(0)\n",
        "col_index.sort()\n",
        "df = dataset.iloc[:,col_index]\n",
        "df"
      ],
      "execution_count": 9,
      "outputs": [
        {
          "output_type": "execute_result",
          "data": {
            "text/html": [
              "<div>\n",
              "<style scoped>\n",
              "    .dataframe tbody tr th:only-of-type {\n",
              "        vertical-align: middle;\n",
              "    }\n",
              "\n",
              "    .dataframe tbody tr th {\n",
              "        vertical-align: top;\n",
              "    }\n",
              "\n",
              "    .dataframe thead th {\n",
              "        text-align: right;\n",
              "    }\n",
              "</style>\n",
              "<table border=\"1\" class=\"dataframe\">\n",
              "  <thead>\n",
              "    <tr style=\"text-align: right;\">\n",
              "      <th></th>\n",
              "      <th>Quarter</th>\n",
              "      <th>Ease of making connections</th>\n",
              "      <th>Availability of banks/ATM/money changing</th>\n",
              "      <th>Business/executive lounges</th>\n",
              "    </tr>\n",
              "  </thead>\n",
              "  <tbody>\n",
              "    <tr>\n",
              "      <th>0</th>\n",
              "      <td>3Q16</td>\n",
              "      <td>0.0</td>\n",
              "      <td>0.0</td>\n",
              "      <td>0.0</td>\n",
              "    </tr>\n",
              "    <tr>\n",
              "      <th>1</th>\n",
              "      <td>2Q16</td>\n",
              "      <td>0.0</td>\n",
              "      <td>0.0</td>\n",
              "      <td>0.0</td>\n",
              "    </tr>\n",
              "    <tr>\n",
              "      <th>2</th>\n",
              "      <td>2Q16</td>\n",
              "      <td>0.0</td>\n",
              "      <td>0.0</td>\n",
              "      <td>0.0</td>\n",
              "    </tr>\n",
              "    <tr>\n",
              "      <th>3</th>\n",
              "      <td>3Q16</td>\n",
              "      <td>0.0</td>\n",
              "      <td>0.0</td>\n",
              "      <td>0.0</td>\n",
              "    </tr>\n",
              "    <tr>\n",
              "      <th>4</th>\n",
              "      <td>3Q16</td>\n",
              "      <td>0.0</td>\n",
              "      <td>3.0</td>\n",
              "      <td>2.0</td>\n",
              "    </tr>\n",
              "    <tr>\n",
              "      <th>...</th>\n",
              "      <td>...</td>\n",
              "      <td>...</td>\n",
              "      <td>...</td>\n",
              "      <td>...</td>\n",
              "    </tr>\n",
              "    <tr>\n",
              "      <th>3496</th>\n",
              "      <td>2Q17</td>\n",
              "      <td>0.0</td>\n",
              "      <td>0.0</td>\n",
              "      <td>0.0</td>\n",
              "    </tr>\n",
              "    <tr>\n",
              "      <th>3497</th>\n",
              "      <td>2Q17</td>\n",
              "      <td>0.0</td>\n",
              "      <td>0.0</td>\n",
              "      <td>0.0</td>\n",
              "    </tr>\n",
              "    <tr>\n",
              "      <th>3498</th>\n",
              "      <td>2Q17</td>\n",
              "      <td>0.0</td>\n",
              "      <td>0.0</td>\n",
              "      <td>0.0</td>\n",
              "    </tr>\n",
              "    <tr>\n",
              "      <th>3499</th>\n",
              "      <td>2Q17</td>\n",
              "      <td>0.0</td>\n",
              "      <td>4.0</td>\n",
              "      <td>0.0</td>\n",
              "    </tr>\n",
              "    <tr>\n",
              "      <th>3500</th>\n",
              "      <td>2Q17</td>\n",
              "      <td>3.0</td>\n",
              "      <td>0.0</td>\n",
              "      <td>0.0</td>\n",
              "    </tr>\n",
              "  </tbody>\n",
              "</table>\n",
              "<p>3501 rows × 4 columns</p>\n",
              "</div>"
            ],
            "text/plain": [
              "     Quarter  ...  Business/executive lounges\n",
              "0       3Q16  ...                         0.0\n",
              "1       2Q16  ...                         0.0\n",
              "2       2Q16  ...                         0.0\n",
              "3       3Q16  ...                         0.0\n",
              "4       3Q16  ...                         2.0\n",
              "...      ...  ...                         ...\n",
              "3496    2Q17  ...                         0.0\n",
              "3497    2Q17  ...                         0.0\n",
              "3498    2Q17  ...                         0.0\n",
              "3499    2Q17  ...                         0.0\n",
              "3500    2Q17  ...                         0.0\n",
              "\n",
              "[3501 rows x 4 columns]"
            ]
          },
          "metadata": {
            "tags": []
          },
          "execution_count": 9
        }
      ]
    },
    {
      "cell_type": "code",
      "metadata": {
        "colab": {
          "base_uri": "https://localhost:8080/"
        },
        "id": "wyPrvPkwVV_R",
        "outputId": "73b8b629-1f8b-45b2-efe4-162e2db32ea3"
      },
      "source": [
        "df.info()"
      ],
      "execution_count": 10,
      "outputs": [
        {
          "output_type": "stream",
          "text": [
            "<class 'pandas.core.frame.DataFrame'>\n",
            "RangeIndex: 3501 entries, 0 to 3500\n",
            "Data columns (total 4 columns):\n",
            " #   Column                                    Non-Null Count  Dtype  \n",
            "---  ------                                    --------------  -----  \n",
            " 0   Quarter                                   3501 non-null   object \n",
            " 1   Ease of making connections                3418 non-null   float64\n",
            " 2   Availability of banks/ATM/money changing  3460 non-null   float64\n",
            " 3   Business/executive lounges                3410 non-null   float64\n",
            "dtypes: float64(3), object(1)\n",
            "memory usage: 109.5+ KB\n"
          ],
          "name": "stdout"
        }
      ]
    },
    {
      "cell_type": "markdown",
      "metadata": {
        "id": "uPtQh1AvX0q4"
      },
      "source": [
        "Dapat dilihat bahwa pada dataframe yang telah difilter masih terdapat beberapa sel yang kosong. Oleh karena itu, sel kosong tersebut akan diisi dengan nilai rata-rata dari kolom tempat sel tersebut berada."
      ]
    },
    {
      "cell_type": "code",
      "metadata": {
        "colab": {
          "base_uri": "https://localhost:8080/"
        },
        "id": "La4GWbY6ViL_",
        "outputId": "54e8ea11-c2f9-46cd-9fd8-2b85eb3a369c"
      },
      "source": [
        "for i in range(len(df.columns)):\n",
        "  if (i != 0):\n",
        "    feature_median = df[df.columns[i]].median()\n",
        "    df[df.columns[i]].fillna(feature_median, inplace=True)\n",
        "df.info()"
      ],
      "execution_count": 11,
      "outputs": [
        {
          "output_type": "stream",
          "text": [
            "<class 'pandas.core.frame.DataFrame'>\n",
            "RangeIndex: 3501 entries, 0 to 3500\n",
            "Data columns (total 4 columns):\n",
            " #   Column                                    Non-Null Count  Dtype  \n",
            "---  ------                                    --------------  -----  \n",
            " 0   Quarter                                   3501 non-null   object \n",
            " 1   Ease of making connections                3501 non-null   float64\n",
            " 2   Availability of banks/ATM/money changing  3501 non-null   float64\n",
            " 3   Business/executive lounges                3501 non-null   float64\n",
            "dtypes: float64(3), object(1)\n",
            "memory usage: 109.5+ KB\n"
          ],
          "name": "stdout"
        },
        {
          "output_type": "stream",
          "text": [
            "/usr/local/lib/python3.7/dist-packages/pandas/core/series.py:4536: SettingWithCopyWarning: \n",
            "A value is trying to be set on a copy of a slice from a DataFrame\n",
            "\n",
            "See the caveats in the documentation: https://pandas.pydata.org/pandas-docs/stable/user_guide/indexing.html#returning-a-view-versus-a-copy\n",
            "  downcast=downcast,\n"
          ],
          "name": "stderr"
        }
      ]
    },
    {
      "cell_type": "markdown",
      "metadata": {
        "id": "_FvcmytlhllW"
      },
      "source": [
        "## 2. Nilai rata-rata dan standar deviasi nilai kepuasan populasi pengunjung"
      ]
    },
    {
      "cell_type": "code",
      "metadata": {
        "id": "dTei_8Cyh9mJ"
      },
      "source": [
        "from scipy.stats import t\n",
        "from scipy.stats import chi2\n",
        "\n",
        "def mean_population_interval(dataset, conf_rate):\n",
        "  num_sample = len(dataset)\n",
        "  p = 1 - (1-conf_rate)/2\n",
        "  dof = num_sample-1\n",
        "  t_value = t.ppf(p, dof)\n",
        "  sample_mean = dataset.mean()\n",
        "  sample_std = dataset.std()\n",
        "  margin_of_error = t_value * sample_std / math.sqrt(num_sample)\n",
        "  interval = (sample_mean - margin_of_error, sample_mean + margin_of_error)\n",
        "  return interval\n",
        "\n",
        "def std_population_interval(dataset, conf_rate):\n",
        "  num_sample = len(dataset)\n",
        "  bot_p = (1-conf_rate)/2\n",
        "  top_p = 1 - bot_p\n",
        "  dof = num_sample-1\n",
        "  sample_squared = dataset**2\n",
        "  sum_sample_squared = sample_squared.sum()\n",
        "  sum_sample = dataset.sum()\n",
        "  squared_sum_sample = sum_sample**2\n",
        "  variance = (num_sample*sum_sample_squared - squared_sum_sample) / (num_sample*(num_sample-1))\n",
        "  chi_bot = chi2.ppf(bot_p, dof)\n",
        "  chi_top = chi2.ppf(top_p, dof)\n",
        "  interval = (math.sqrt((num_sample - 1)*variance/chi_top), math.sqrt((num_sample - 1)*variance/chi_bot))\n",
        "  return interval"
      ],
      "execution_count": 12,
      "outputs": []
    },
    {
      "cell_type": "markdown",
      "metadata": {
        "id": "gvTNo4B6YyEI"
      },
      "source": [
        "### 2.a. Nilai rata-rata"
      ]
    },
    {
      "cell_type": "code",
      "metadata": {
        "colab": {
          "base_uri": "https://localhost:8080/"
        },
        "id": "IQsgGMBHZX94",
        "outputId": "02c77e31-feea-4776-b366-b97518c8b2d4"
      },
      "source": [
        "#Ease of making connections\n",
        "mean_population_interval(df[df.columns[1]], 0.95)"
      ],
      "execution_count": 13,
      "outputs": [
        {
          "output_type": "execute_result",
          "data": {
            "text/plain": [
              "(0.3110066611546219, 0.39222098808845157)"
            ]
          },
          "metadata": {
            "tags": []
          },
          "execution_count": 13
        }
      ]
    },
    {
      "cell_type": "code",
      "metadata": {
        "colab": {
          "base_uri": "https://localhost:8080/"
        },
        "id": "NQuKuyJNZbNW",
        "outputId": "99db2c03-6c89-491d-e4a8-e83898cc717a"
      },
      "source": [
        "#Availability of banks/ATM/money changing\n",
        "mean_population_interval(df[df.columns[2]], 0.95)"
      ],
      "execution_count": 14,
      "outputs": [
        {
          "output_type": "execute_result",
          "data": {
            "text/plain": [
              "(0.8326193704438916, 0.9445871419811298)"
            ]
          },
          "metadata": {
            "tags": []
          },
          "execution_count": 14
        }
      ]
    },
    {
      "cell_type": "code",
      "metadata": {
        "colab": {
          "base_uri": "https://localhost:8080/"
        },
        "id": "KqdunBhOZehP",
        "outputId": "224b207c-9e92-49c2-956e-41f89ca8943f"
      },
      "source": [
        "#Business/executive lounges \n",
        "mean_population_interval(df[df.columns[3]], 0.95)"
      ],
      "execution_count": 15,
      "outputs": [
        {
          "output_type": "execute_result",
          "data": {
            "text/plain": [
              "(0.42843914050921733, 0.5147199568915253)"
            ]
          },
          "metadata": {
            "tags": []
          },
          "execution_count": 15
        }
      ]
    },
    {
      "cell_type": "markdown",
      "metadata": {
        "id": "j_5V_jVwZmSf"
      },
      "source": [
        "### 2.b. Nilai standar deviasi"
      ]
    },
    {
      "cell_type": "code",
      "metadata": {
        "colab": {
          "base_uri": "https://localhost:8080/"
        },
        "id": "IAZ48kR9IP3z",
        "outputId": "7d745f21-5b83-4f09-9dd3-903f2529a099"
      },
      "source": [
        "std_population_interval(df[df.columns[1]], 0.95)"
      ],
      "execution_count": 16,
      "outputs": [
        {
          "output_type": "execute_result",
          "data": {
            "text/plain": [
              "(1.1974185875101804, 1.254863421356279)"
            ]
          },
          "metadata": {
            "tags": []
          },
          "execution_count": 16
        }
      ]
    },
    {
      "cell_type": "code",
      "metadata": {
        "colab": {
          "base_uri": "https://localhost:8080/"
        },
        "id": "ZKXQSwniJqQM",
        "outputId": "78962181-7b15-4036-92be-c6418bec0813"
      },
      "source": [
        "std_population_interval(df[df.columns[2]], 0.95)"
      ],
      "execution_count": 17,
      "outputs": [
        {
          "output_type": "execute_result",
          "data": {
            "text/plain": [
              "(1.6508453114438693, 1.7300427914317917)"
            ]
          },
          "metadata": {
            "tags": []
          },
          "execution_count": 17
        }
      ]
    },
    {
      "cell_type": "code",
      "metadata": {
        "colab": {
          "base_uri": "https://localhost:8080/"
        },
        "id": "uk_NBCZvJybJ",
        "outputId": "77e27efa-9bf2-4270-8731-81a0e0b58d8f"
      },
      "source": [
        "std_population_interval(df[df.columns[3]], 0.95)"
      ],
      "execution_count": 18,
      "outputs": [
        {
          "output_type": "execute_result",
          "data": {
            "text/plain": [
              "(1.2721185680194267, 1.3331470509030627)"
            ]
          },
          "metadata": {
            "tags": []
          },
          "execution_count": 18
        }
      ]
    },
    {
      "cell_type": "markdown",
      "metadata": {
        "id": "VOiRSYdRqLoZ"
      },
      "source": [
        "## 3. Visualization"
      ]
    },
    {
      "cell_type": "code",
      "metadata": {
        "id": "LOMOxqGAskrk"
      },
      "source": [
        "def show_per_quarter_graph(dataset, service, axes, col):\n",
        "  quarters = dataset['Quarter'].unique()\n",
        "  quarters.sort()\n",
        "  dict_quarters = dict()\n",
        "  for quarter in quarters:\n",
        "    year = \"20\" + quarter[2:]\n",
        "    if year not in dict_quarters:\n",
        "      dict_quarters[year] = list()\n",
        "    dict_quarters[year].append(quarter)  \n",
        " \n",
        "  mean_intervals = []\n",
        "  std_intervals = []\n",
        "  for year in dict_quarters:\n",
        "    for quarter in dict_quarters[year]:\n",
        "      df = dataset[dataset['Quarter']==quarter][service]\n",
        "      mean_intervals.append(mean_population_interval(df, 0.95))\n",
        "      std_intervals.append(std_population_interval(df, 0.95))\n",
        "  \n",
        "  y_err_mean = []\n",
        "  mid_interval_mean = []\n",
        "\n",
        "  y_err_std = []\n",
        "  mid_interval_std = []\n",
        "  \n",
        "  for interval in mean_intervals:\n",
        "    mid = (interval[0]+interval[1])/2\n",
        "    err = interval[1]-mid\n",
        "    y_err_mean.append(err)\n",
        "    mid_interval_mean.append(mid)\n",
        "\n",
        "  for interval in std_intervals:\n",
        "    mid = (interval[0]+interval[1])/2\n",
        "    err = interval[1]-mid\n",
        "    y_err_std.append(err)\n",
        "    mid_interval_std.append(mid)\n",
        "\n",
        "  x = [i for i in range(1, len(quarters)+1)]\n",
        "\n",
        "  number_to_text = {1 : \"First\",\n",
        "                    2 : \"Second\",\n",
        "                    3 : \"Third\",\n",
        "                    4 : \"Fourth\"}\n",
        "  keys = list(dict_quarters.keys())\n",
        "  begin_year = keys[0]\n",
        "  end_year = keys[len(keys)-1]\n",
        "  begin_quarter = int(dict_quarters[begin_year][0][0:1])\n",
        "  end_quarter = len(dict_quarters[end_year])\n",
        "  axes[col].errorbar(x, mid_interval_std, yerr = y_err_std, capsize=2, marker = \".\", markersize=7., fmt=\"o\", label=\"std\")\n",
        "  axes[col].errorbar(x , mid_interval_mean, yerr = y_err_mean, capsize=2, marker = \".\", markersize=7., fmt=\"o\", label=\"mean\")\n",
        "  axes[col].set_title(service)\n",
        "  axes[col].grid(True, linewidth=1, color='white', linestyle='-')\n",
        "  axes[col].set_facecolor(\"lavender\")\n",
        "  axes[col].set_ylabel(\"Score\")\n",
        "  axes[col].set_xticks(x)\n",
        "  axes[col].set_xlabel(\"Quarter (%s quarter of %s till %s quarter of %s)\" %(number_to_text[begin_quarter], begin_year, number_to_text[end_quarter], end_year))\n",
        "  axes[col].legend()\n"
      ],
      "execution_count": 19,
      "outputs": []
    },
    {
      "cell_type": "code",
      "metadata": {
        "colab": {
          "base_uri": "https://localhost:8080/",
          "height": 350
        },
        "id": "zSoUN1YQyE0W",
        "outputId": "0b9be499-2e2f-4cda-ccbe-a63719ab6a7f"
      },
      "source": [
        "fig, ax = plt.subplots(1,3, figsize=(20,5))\n",
        "show_per_quarter_graph(df, df.columns[1], ax, 0)\n",
        "show_per_quarter_graph(df, df.columns[2], ax, 1)\n",
        "show_per_quarter_graph(df, df.columns[3], ax, 2)"
      ],
      "execution_count": 20,
      "outputs": [
        {
          "output_type": "display_data",
          "data": {
            "image/png": "[encoded data removed]",
            "text/plain": [
              "<Figure size 1440x360 with 3 Axes>"
            ]
          },
          "metadata": {
            "tags": [],
            "needs_background": "light"
          }
        }
      ]
    },
    {
      "cell_type": "markdown",
      "metadata": {
        "id": "D32bS0UxaLKO"
      },
      "source": [
        "## 4. Pertanyaan diskusi"
      ]
    },
    {
      "cell_type": "markdown",
      "metadata": {
        "id": "1YsajdL1aSZP"
      },
      "source": [
        "### 4.a. Menentukan batas bawah skor kepuasan *s*, sehingga kita dapat cukup yakin bahwa 95% total pengunjung bandara pasti memberikan penilaian lebih besar atau sama dengan *s*"
      ]
    },
    {
      "cell_type": "code",
      "metadata": {
        "colab": {
          "base_uri": "https://localhost:8080/"
        },
        "id": "3SrV_idaj0k0",
        "outputId": "3f61b0af-95be-45b0-e2ce-004987d309e3"
      },
      "source": [
        "#Ease of making connections\n",
        "mean_population_interval(df[df.columns[1]], 0.90)[0]"
      ],
      "execution_count": 21,
      "outputs": [
        {
          "output_type": "execute_result",
          "data": {
            "text/plain": [
              "0.31753798444928527"
            ]
          },
          "metadata": {
            "tags": []
          },
          "execution_count": 21
        }
      ]
    },
    {
      "cell_type": "code",
      "metadata": {
        "colab": {
          "base_uri": "https://localhost:8080/"
        },
        "id": "XYRZVXkEiey4",
        "outputId": "1f37e972-ff42-45c1-eb2c-781f9e037097"
      },
      "source": [
        "#Availability of banks/ATM/money changing\n",
        "mean_population_interval(df[df.columns[2]], 0.90)[0]"
      ],
      "execution_count": 22,
      "outputs": [
        {
          "output_type": "execute_result",
          "data": {
            "text/plain": [
              "0.8416239111709057"
            ]
          },
          "metadata": {
            "tags": []
          },
          "execution_count": 22
        }
      ]
    },
    {
      "cell_type": "code",
      "metadata": {
        "colab": {
          "base_uri": "https://localhost:8080/"
        },
        "id": "Sm-UiJy7uNwh",
        "outputId": "0f49b829-8221-41bb-fbfa-a28690c6561a"
      },
      "source": [
        "#Business/executive lounges \n",
        "mean_population_interval(df[df.columns[3]], 0.90)[0]"
      ],
      "execution_count": 23,
      "outputs": [
        {
          "output_type": "execute_result",
          "data": {
            "text/plain": [
              "0.4353779150727187"
            ]
          },
          "metadata": {
            "tags": []
          },
          "execution_count": 23
        }
      ]
    },
    {
      "cell_type": "markdown",
      "metadata": {
        "id": "Sdegj-PNa4Ne"
      },
      "source": [
        "### 4.b. Inferensi statistika untuk proporsi banyaknya responden yang tergolong 'puas' terhadap layanan apabila diasumsikan seseorang tergolong 'puas' terhadap suatu layanan jika ia mengisi skor lebih besar atau sama dengan 4. "
      ]
    },
    {
      "cell_type": "code",
      "metadata": {
        "id": "v2Co5g455iEr"
      },
      "source": [
        "def proportion(dataset):\n",
        "  num_sample = len(dataset)\n",
        "  dof = num_sample-1\n",
        "  sample_mean = dataset.mean()\n",
        "  sample_std = dataset.std()\n",
        "  t_value = (-4 + sample_mean)/(sample_std/math.sqrt(num_sample))\n",
        "  p = t.cdf(t_value, dof)\n",
        "  return p"
      ],
      "execution_count": 24,
      "outputs": []
    },
    {
      "cell_type": "code",
      "metadata": {
        "colab": {
          "base_uri": "https://localhost:8080/"
        },
        "id": "OTEFInGE7JeK",
        "outputId": "40ae3552-7f9a-4491-c2db-aee529215455"
      },
      "source": [
        "#Ease of making connections\n",
        "proportion(df[df.columns[1]])"
      ],
      "execution_count": 25,
      "outputs": [
        {
          "output_type": "execute_result",
          "data": {
            "text/plain": [
              "0.0"
            ]
          },
          "metadata": {
            "tags": []
          },
          "execution_count": 25
        }
      ]
    },
    {
      "cell_type": "code",
      "metadata": {
        "colab": {
          "base_uri": "https://localhost:8080/"
        },
        "id": "8mV_8lZtDOxN",
        "outputId": "6f08e117-ef1c-42e3-878d-f1d9ec890365"
      },
      "source": [
        "#Availability of banks/ATM/money changing\n",
        "proportion(df[df.columns[2]])"
      ],
      "execution_count": 26,
      "outputs": [
        {
          "output_type": "execute_result",
          "data": {
            "text/plain": [
              "0.0"
            ]
          },
          "metadata": {
            "tags": []
          },
          "execution_count": 26
        }
      ]
    },
    {
      "cell_type": "code",
      "metadata": {
        "colab": {
          "base_uri": "https://localhost:8080/"
        },
        "id": "vpl4lPreDT9D",
        "outputId": "fc81314d-c3fc-45e9-aa21-3fb0fc104b9f"
      },
      "source": [
        "#Business/executive lounges\n",
        "proportion(df[df.columns[3]])"
      ],
      "execution_count": 27,
      "outputs": [
        {
          "output_type": "execute_result",
          "data": {
            "text/plain": [
              "0.0"
            ]
          },
          "metadata": {
            "tags": []
          },
          "execution_count": 27
        }
      ]
    },
    {
      "cell_type": "markdown",
      "metadata": {
        "id": "BRywcFC_bgLs"
      },
      "source": [
        "### 4.c. Menentukan layanan dan kuartal dengan tingkat kepuasan yang cenderung seragam serta cenderung bervariatif."
      ]
    },
    {
      "cell_type": "code",
      "metadata": {
        "id": "I3o9xsHnb1zm"
      },
      "source": [
        "def most_uniform(dataset):\n",
        "  quarters = dataset['Quarter'].unique()\n",
        "  serv = \"\"\n",
        "  q = \"\"\n",
        "  max = (-np.inf, -np.inf)\n",
        "  for quarter in quarters:\n",
        "    for service in dataset:\n",
        "      if (service) != \"Quarter\":\n",
        "        df = dataset[dataset['Quarter']==quarter][service]\n",
        "        std = std_population_interval(df, 0.95)\n",
        "        if std[1] > max[1]:\n",
        "          max = std\n",
        "          serv = service\n",
        "          q = quarter\n",
        "  return q, serv, max\n",
        "\n",
        "\n",
        "def most_varied(dataset):\n",
        "  quarters = dataset['Quarter'].unique()\n",
        "  serv = \"\"\n",
        "  q = \"\"\n",
        "  min = (np.inf, np.inf)\n",
        "  for quarter in quarters:\n",
        "    for service in dataset:\n",
        "      if (service) != \"Quarter\":\n",
        "        df = dataset[dataset['Quarter']==quarter][service]\n",
        "        std = std_population_interval(df, 0.95)\n",
        "        if std[0] < min[0]:\n",
        "          min = std\n",
        "          serv = service\n",
        "          q = quarter\n",
        "  return q, serv, min"
      ],
      "execution_count": 40,
      "outputs": []
    },
    {
      "cell_type": "code",
      "metadata": {
        "colab": {
          "base_uri": "https://localhost:8080/"
        },
        "id": "Cznm4NoX8w_f",
        "outputId": "6e8b4d12-5b50-4f4a-dfae-e865afadf67f"
      },
      "source": [
        "most_varied(df)"
      ],
      "execution_count": 41,
      "outputs": [
        {
          "output_type": "execute_result",
          "data": {
            "text/plain": [
              "('2Q16',\n",
              " 'Ease of making connections',\n",
              " (0.6814138426076525, 0.7905669188011353))"
            ]
          },
          "metadata": {
            "tags": []
          },
          "execution_count": 41
        }
      ]
    },
    {
      "cell_type": "code",
      "metadata": {
        "colab": {
          "base_uri": "https://localhost:8080/"
        },
        "id": "aHa7op3f4fNN",
        "outputId": "700d8950-a5f5-4e7d-f52c-39a4b7432ca7"
      },
      "source": [
        "most_uniform(df)"
      ],
      "execution_count": 42,
      "outputs": [
        {
          "output_type": "execute_result",
          "data": {
            "text/plain": [
              "('1Q15', 'Ease of making connections', (2.030108495638066, 2.3553038078692095))"
            ]
          },
          "metadata": {
            "tags": []
          },
          "execution_count": 42
        }
      ]
    },
    {
      "cell_type": "markdown",
      "metadata": {
        "id": "ETzbDJZ87UzW"
      },
      "source": [
        "### 4.d. Merekomendasikan satu layanan yang paling perlu ditingkatkan"
      ]
    },
    {
      "cell_type": "code",
      "metadata": {
        "colab": {
          "base_uri": "https://localhost:8080/"
        },
        "id": "yTdNP9M-7TdI",
        "outputId": "73a7e081-937a-4d55-87b4-3490ffb6e62a"
      },
      "source": [
        "df.mean().sort_values()[0:1]"
      ],
      "execution_count": 32,
      "outputs": [
        {
          "output_type": "execute_result",
          "data": {
            "text/plain": [
              "Ease of making connections    0.351614\n",
              "dtype: float64"
            ]
          },
          "metadata": {
            "tags": []
          },
          "execution_count": 32
        }
      ]
    }
  ]
}